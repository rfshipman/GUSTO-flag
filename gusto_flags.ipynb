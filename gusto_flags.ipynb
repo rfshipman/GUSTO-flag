{
 "cells": [
  {
   "cell_type": "code",
   "execution_count": 1,
   "id": "satisfactory-interface",
   "metadata": {},
   "outputs": [
    {
     "name": "stdout",
     "output_type": "stream",
     "text": [
      "     Observing sequences\n",
      "     Building Block Types\n",
      "     Mixers\n",
      "     Channels\n"
     ]
    },
    {
     "data": {
      "text/plain": [
       "[<GustoChannelFlag.spike: 1>,\n",
       " <GustoChannelFlag.data_ool: 2>,\n",
       " <GustoChannelFlag.possible_line: 4>,\n",
       " <GustoChannelFlag.bad_channel: 8>]"
      ]
     },
     "execution_count": 1,
     "metadata": {},
     "output_type": "execute_result"
    }
   ],
   "source": [
    "import numpy as np\n",
    "from gustoFlag import GustoChannelFlag\n",
    "from gustoFlag import GustoMixerFlag\n",
    "from gustoFlag import GustoBbtypeFlag\n",
    "from gustoFlag import GustoSeqFlag\n",
    "\n",
    "print(\"     Observing sequences\")\n",
    "list(GustoSeqFlag)\n",
    "    \n",
    "print(\"     Building Block Types\")\n",
    "list(GustoBbtypeFlag)\n",
    "\n",
    "print(\"     Mixers\")\n",
    "list(GustoMixerFlag)\n",
    "\n",
    "print(\"     Channels\")\n",
    "list(GustoChannelFlag)\n"
   ]
  },
  {
   "cell_type": "code",
   "execution_count": 2,
   "id": "finished-companion",
   "metadata": {},
   "outputs": [
    {
     "name": "stdout",
     "output_type": "stream",
     "text": [
      "SPIKE is: GustoChannelFlag.spike\n",
      "flagarray:  [0 0 1 ... 0 0 0]\n"
     ]
    }
   ],
   "source": [
    "import numpy as np\n",
    "\n",
    "#create a spike flag\n",
    "SPIKE = GustoChannelFlag.spike\n",
    "\n",
    "print(\"SPIKE is:\",SPIKE)\n",
    "\n",
    "\n",
    "flagarray = np.zeros(1024,int)\n",
    "#\n",
    "#setting an element of a flag array at index 2 as SPIKE\n",
    "flagarray[2]=SPIKE\n",
    "\n",
    "print(\"flagarray: \",flagarray)\n"
   ]
  },
  {
   "cell_type": "code",
   "execution_count": 3,
   "id": "stainless-jersey",
   "metadata": {},
   "outputs": [
    {
     "data": {
      "text/plain": [
       "array([0, 0, 0, 0, 0, 1, 0, 0, 0, 0, 0, 0, 0])"
      ]
     },
     "execution_count": 3,
     "metadata": {},
     "output_type": "execute_result"
    }
   ],
   "source": [
    "b = np.array([0,0,0,2,4,5,4,18,8,0,0,10,16])\n",
    "\n",
    "#Where are the SPIKE data in a given array\n",
    "\n",
    "b & SPIKE"
   ]
  },
  {
   "cell_type": "code",
   "execution_count": 4,
   "id": "convenient-novel",
   "metadata": {},
   "outputs": [
    {
     "name": "stdout",
     "output_type": "stream",
     "text": [
      "Help on class GustoChannelFlag in module gustoFlag:\n",
      "\n",
      "class GustoChannelFlag(enum.IntFlag)\n",
      " |  GustoChannelFlag(value, names=None, *, module=None, qualname=None, type=None, start=1)\n",
      " |  \n",
      " |  Define Flags which impact individual spectrometer channels, can appear at any channel of any integration\n",
      " |  \n",
      " |  Method resolution order:\n",
      " |      GustoChannelFlag\n",
      " |      enum.IntFlag\n",
      " |      builtins.int\n",
      " |      enum.Flag\n",
      " |      enum.Enum\n",
      " |      builtins.object\n",
      " |  \n",
      " |  Data and other attributes defined here:\n",
      " |  \n",
      " |  bad_channel = <GustoChannelFlag.bad_channel: 8>\n",
      " |  \n",
      " |  data_ool = <GustoChannelFlag.data_ool: 2>\n",
      " |  \n",
      " |  possible_line = <GustoChannelFlag.possible_line: 4>\n",
      " |  \n",
      " |  spike = <GustoChannelFlag.spike: 1>\n",
      " |  \n",
      " |  ----------------------------------------------------------------------\n",
      " |  Data descriptors inherited from enum.Enum:\n",
      " |  \n",
      " |  name\n",
      " |      The name of the Enum member.\n",
      " |  \n",
      " |  value\n",
      " |      The value of the Enum member.\n",
      " |  \n",
      " |  ----------------------------------------------------------------------\n",
      " |  Readonly properties inherited from enum.EnumMeta:\n",
      " |  \n",
      " |  __members__\n",
      " |      Returns a mapping of member name->value.\n",
      " |      \n",
      " |      This mapping lists all enum members, including aliases. Note that this\n",
      " |      is a read-only view of the internal mapping.\n",
      "\n"
     ]
    }
   ],
   "source": [
    "help(GustoChannelFlag)\n"
   ]
  },
  {
   "cell_type": "code",
   "execution_count": 7,
   "id": "alien-tragedy",
   "metadata": {},
   "outputs": [
    {
     "name": "stdout",
     "output_type": "stream",
     "text": [
      "OOL elements:  [0 0 0 2 0 0 0 2 0 0 0 2 0]\n",
      "Indices of b: (array([ 3,  7, 11]),)\n"
     ]
    }
   ],
   "source": [
    "#Create an out-of-limit flag\n",
    "OOL=GustoChannelFlag.data_ool\n",
    "\n",
    "#identify where this flag is set in b\n",
    "print(\"OOL elements: \",b & OOL)\n",
    "\n",
    "qool=np.where((b & OOL) == OOL )\n",
    "\n",
    "print(\"Indices of b:\",qool)"
   ]
  },
  {
   "cell_type": "code",
   "execution_count": null,
   "id": "acoustic-spanking",
   "metadata": {},
   "outputs": [],
   "source": []
  },
  {
   "cell_type": "code",
   "execution_count": null,
   "id": "cross-slave",
   "metadata": {},
   "outputs": [],
   "source": []
  },
  {
   "cell_type": "code",
   "execution_count": null,
   "id": "intelligent-mercy",
   "metadata": {},
   "outputs": [],
   "source": []
  },
  {
   "cell_type": "code",
   "execution_count": null,
   "id": "plastic-major",
   "metadata": {},
   "outputs": [],
   "source": []
  },
  {
   "cell_type": "code",
   "execution_count": null,
   "id": "genetic-trace",
   "metadata": {},
   "outputs": [],
   "source": []
  },
  {
   "cell_type": "code",
   "execution_count": null,
   "id": "indonesian-clark",
   "metadata": {},
   "outputs": [],
   "source": []
  },
  {
   "cell_type": "code",
   "execution_count": null,
   "id": "virgin-slide",
   "metadata": {},
   "outputs": [],
   "source": []
  },
  {
   "cell_type": "code",
   "execution_count": null,
   "id": "cutting-substance",
   "metadata": {},
   "outputs": [],
   "source": []
  }
 ],
 "metadata": {
  "kernelspec": {
   "display_name": "Python 3",
   "language": "python",
   "name": "python3"
  },
  "language_info": {
   "codemirror_mode": {
    "name": "ipython",
    "version": 3
   },
   "file_extension": ".py",
   "mimetype": "text/x-python",
   "name": "python",
   "nbconvert_exporter": "python",
   "pygments_lexer": "ipython3",
   "version": "3.9.1"
  }
 },
 "nbformat": 4,
 "nbformat_minor": 5
}
